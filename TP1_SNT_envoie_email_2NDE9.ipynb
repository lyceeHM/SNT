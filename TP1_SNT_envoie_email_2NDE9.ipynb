{
 "cells": [
  {
   "cell_type": "markdown",
   "metadata": {},
   "source": [
    "<div id=\"titre\">\n",
    "<h1 style=\"color:white;\n",
    "  font-family:Comic Sans MS;\n",
    "  font-size:3em;\n",
    "  background-color:#D0573B;\n",
    "  text-align:center;\n",
    "  padding:10px\">Envoie d'emails en seconde 9</h1>\n",
    "<div style=\"font-family:Comic Sans MS; background-color:black;box-shadow: 8px 8px 0px #aaa; text-align:center; width: 50%; color:white\">TP1</div>\n",
    "</div>"
   ]
  },
  {
   "cell_type": "markdown",
   "metadata": {},
   "source": [
    "<span style='color:white;font-weight:bold;background-color:black;width:12px;padding: 2px;font-size:20px'>1.</span> <b>Répertoire de la classe</b>"
   ]
  },
  {
   "cell_type": "markdown",
   "metadata": {},
   "source": [
    "On a déposé sur google drive, le fichier excel pour que vous pouvez remplir et utiliser comme un annuaire de la classe."
   ]
  },
  {
   "cell_type": "markdown",
   "metadata": {},
   "source": [
    "<span style='color:white;font-weight:bold;background-color:#F0573B;padding: 2px;font-size:20px'>a.</span> Cliquer sur ce lien pour accéder à l'annuaire de votre classe : \n",
    "<br>https://drive.google.com/file/d/1YKJqoEylw7emZp6ql9rdX0Rfgdfctocg/view?usp=sharing"
   ]
  },
  {
   "cell_type": "markdown",
   "metadata": {},
   "source": [
    "<span style='color:white;font-weight:bold;background-color:#F0573B;padding: 2px;font-size:20px'>b.</span> Renseigner sur ce fichier le numéro du groupe auquel vous appartenez (1 ou 2) dans la colonne <b>Groupe</b>."
   ]
  },
  {
   "cell_type": "markdown",
   "metadata": {},
   "source": [
    "<span style='color:white;font-weight:bold;background-color:#F0573B;padding: 2px;font-size:20px'>c.</span> <ul>\n",
    "    <li>En utilisant une application de votre choix, déterminer la distance, <i><b>arrondie</b> au kilomètre près</i>, qui sépare votre domicile au lycée.</li>\n",
    "    <li>Renseigner celle-ci dans le fichier Excel en complétant la colonne <b>Distance</b>.</li>\n",
    "</ul>"
   ]
  },
  {
   "cell_type": "markdown",
   "metadata": {},
   "source": [
    "<span style='color:white;font-weight:bold;background-color:black;width:12px;padding: 2px;font-size:20px'>2.</span> <b>Envoie d'un simple email</b>"
   ]
  },
  {
   "cell_type": "markdown",
   "metadata": {},
   "source": [
    "<span style='color:white;font-weight:bold;background-color:#F0573B;padding: 2px;font-size:20px'>a.</span> Exécuter l'instruction suivante permettant de charger le module <b>yagmail</b> :"
   ]
  },
  {
   "cell_type": "code",
   "execution_count": null,
   "metadata": {},
   "outputs": [],
   "source": [
    "import yagmail "
   ]
  },
  {
   "cell_type": "markdown",
   "metadata": {},
   "source": [
    "<span style='color:white;font-weight:bold;background-color:#F0573B;padding: 2px;font-size:20px'>b.</span> Voici le code à modifier pour ordonner à Gmail d'envoyer un email :"
   ]
  },
  {
   "cell_type": "code",
   "execution_count": null,
   "metadata": {},
   "outputs": [],
   "source": [
    "yag = yagmail.SMTP(\"mon adresse\", \"mon mot de passe\")\n",
    "\n",
    "message = \"\"\"\n",
    ".......\n",
    "\"\"\" \n",
    "\n",
    "yag.send(to = \"adresse ami\", \n",
    "         subject = \"çà va ?\", \n",
    "         contents = message)\n",
    "yag.close()"
   ]
  },
  {
   "cell_type": "markdown",
   "metadata": {},
   "source": [
    "<b>Consigne :</b>\n",
    "<ul>\n",
    "    <li>remplacer le texte <b>mon adresse</b> par votre adresse Gmail</li> \n",
    "    <li>remplacer le texte <b>mon mot de passe</b> par votre mot de passe Gmail</li>\n",
    "    <li>compléter les pointillés pour envoyer le message suivant à votre de table : \n",
    "   \n",
    "   ```html\n",
    "Bonjour, comment vas-tu ?\n",
    "```\n",
    "</li>\n",
    "   <li>remplacer le texte <b>adresse ami</b> par votre l'adresse Gmail de votre voisin</li>\n",
    "</ul>"
   ]
  },
  {
   "cell_type": "markdown",
   "metadata": {},
   "source": [
    "<span style='color:white;font-weight:bold;background-color:#F0573B;padding: 2px;font-size:20px'>c.</span> Compléter le code suivant pour répondre à votre camarade en lui envoyant un <b>gentil message</b>  :"
   ]
  },
  {
   "cell_type": "code",
   "execution_count": null,
   "metadata": {},
   "outputs": [],
   "source": [
    "yag = yagmail.SMTP(\".....\", \"......\")\n",
    "\n",
    "message = \"\"\"\n",
    ".....\n",
    ".....\n",
    "\"\"\" \n",
    "\n",
    "yag.send(to = \".......\", \n",
    "         subject = \"Réponse\", \n",
    "         contents = message)\n",
    "yag.close()"
   ]
  },
  {
   "cell_type": "markdown",
   "metadata": {},
   "source": [
    "<span style='color:white;font-weight:bold;background-color:black;width:12px;padding: 2px;font-size:20px'>3.</span> <b>Envoie d'un email à plusieurs amis</b>"
   ]
  },
  {
   "cell_type": "markdown",
   "metadata": {},
   "source": [
    "Compléter le code suivant pour écrire à deux amis de votre choix.\n",
    "<br>\n",
    "<b>Bien modifier \"l'adresse ami 1\" et \"l'adresse ami 2\".</b>"
   ]
  },
  {
   "cell_type": "code",
   "execution_count": null,
   "metadata": {},
   "outputs": [],
   "source": [
    "yag = yagmail.SMTP(\".....\", \"......\")\n",
    "\n",
    "message = \"\"\"\n",
    ".....\n",
    ".....\n",
    "\"\"\" \n",
    "\n",
    "yag.send(to = [\"adresse ami 1\", \"adresse ami 2\"], \n",
    "         subject = \"plusieurs amis\", \n",
    "         contents = message)\n",
    "yag.close()"
   ]
  },
  {
   "cell_type": "markdown",
   "metadata": {},
   "source": [
    "<span style='color:white;font-weight:bold;background-color:black;width:12px;padding: 2px;font-size:20px'>4.</span> <b>Ouverture de l'annuaire et sélection d'élèves</b>"
   ]
  },
  {
   "cell_type": "markdown",
   "metadata": {},
   "source": [
    "<span style='color:white;font-weight:bold;background-color:#F0573B;padding: 2px;font-size:20px'>a.</span> Exécuter le code suivant pour lire l'annuaire avec python :"
   ]
  },
  {
   "cell_type": "code",
   "execution_count": null,
   "metadata": {},
   "outputs": [],
   "source": [
    "import pandas \n",
    "\n",
    "T = pandas.read_excel('2nde_9.xlsx')\n",
    "T"
   ]
  },
  {
   "cell_type": "markdown",
   "metadata": {},
   "source": [
    "<b>Remarque : </b> la table <b>T</b> est associée au fichier excel."
   ]
  },
  {
   "cell_type": "markdown",
   "metadata": {},
   "source": [
    "<span style='color:white;font-weight:bold;background-color:#F0573B;padding: 2px;font-size:20px'>b.</span> Exécuter l'instruction suivante et expliquer son rôle."
   ]
  },
  {
   "cell_type": "code",
   "execution_count": null,
   "metadata": {},
   "outputs": [],
   "source": [
    "T.query('Num >= 20 and Option_2 == \"ALL2\"')"
   ]
  },
  {
   "cell_type": "markdown",
   "metadata": {},
   "source": [
    "<span style='color:white;font-weight:bold;background-color:#F0573B;padding: 2px;font-size:20px'>c.</span> On extrait la liste <b>L</b> des emails d'élèves.\n",
    "<br> Citer les crières de sélection de ces élèves."
   ]
  },
  {
   "cell_type": "code",
   "execution_count": null,
   "metadata": {},
   "outputs": [],
   "source": [
    "L = list(T.query('Option_2 == \"ESP2\" and Option_3 == \"SANTS\"')['Mail'])\n",
    "L"
   ]
  },
  {
   "cell_type": "markdown",
   "metadata": {},
   "source": [
    "<span style='color:white;font-weight:bold;background-color:#F0573B;padding: 2px;font-size:20px'>d.</span> Quelle instruction permet de sélectionner les élèves qui font de l'espagnol en langue 2 et sont dans <b>votre groupe</b> ?"
   ]
  },
  {
   "cell_type": "code",
   "execution_count": null,
   "metadata": {},
   "outputs": [],
   "source": [
    "T.query('Option_2 == \"....\" ..... Groupe == ......')"
   ]
  },
  {
   "cell_type": "markdown",
   "metadata": {},
   "source": [
    "<span style='color:white;font-weight:bold;background-color:black;width:12px;padding: 2px;font-size:20px'>5.</span> <b>Sélection d'élèves et envoie groupé d'emails</b>"
   ]
  },
  {
   "cell_type": "markdown",
   "metadata": {},
   "source": [
    "<span style='color:white;font-weight:bold;background-color:#F0573B;padding: 2px;font-size:20px'>a.</span> Le code suivant permet de sélectionner des élèves et de leur envoyer un même email :"
   ]
  },
  {
   "cell_type": "code",
   "execution_count": null,
   "metadata": {},
   "outputs": [],
   "source": [
    "R = T.query('Option_2 == \"ESP2\" and Groupe == .....')\n",
    "\n",
    "for prenom, adresse in R[['Prenom', 'Mail']].values: \n",
    "    yag = yagmail.SMTP(\"mon adresse\", \"mon mot de passe\")\n",
    "\n",
    "    message = \"Coucou \" + prenom + \"<br> fais-tu bien allemand ?\" \n",
    "\n",
    "    yag.send(to = adresse, \n",
    "             subject = \"Question de langue\", \n",
    "             contents = message)\n",
    "yag.close()"
   ]
  },
  {
   "cell_type": "markdown",
   "metadata": {},
   "source": [
    "<b>Consigne :</b>\n",
    "<ul>\n",
    "    <li>Remplacer les pointillés par le numéro de <b>votre groupe</b> (1 ou 2).</li>\n",
    "    <li>Exécuter ce code.</li>\n",
    "    <li>Préciser quel type d'élève qui a pu recevoir un email.</li>\n",
    "    <li>Quel est l'objet du mail ?</li>\n",
    "</ul>"
   ]
  },
  {
   "cell_type": "markdown",
   "metadata": {},
   "source": [
    "<span style='color:white;font-weight:bold;background-color:#F0573B;padding: 2px;font-size:20px'>b.</span> Envoyer un email à chaque personne de <b>votre groupe</b> avec comme message personnalisé : \n",
    "```html\n",
    "Coucou {prenom},\n",
    "Tu habites à {....} km du lycée.\n",
    "```"
   ]
  },
  {
   "cell_type": "code",
   "execution_count": null,
   "metadata": {},
   "outputs": [],
   "source": [
    "R = T.query('........................')\n",
    "\n",
    "for prenom, adresse, dist in R[['Prenom', 'Mail', 'Distance']].values: \n",
    "    yag = yagmail.SMTP(\"mon adresse\", \"mon mot de passe\")\n",
    "\n",
    "    message = \"Coucou \" + ......... + \"<br> Tu habites à \" + ...... + \"km du lycée.\" \n",
    "\n",
    "    yag.send(to = adresse, \n",
    "             subject = \"Distance\", \n",
    "             contents = message)\n",
    "yag.close()"
   ]
  },
  {
   "cell_type": "markdown",
   "metadata": {},
   "source": [
    "<span style='color:white;font-weight:bold;background-color:#F0573B;padding: 2px;font-size:20px'>e.</span> Modifier le code précédant pour <b>ajouter</b> automatiquement au texte :\n",
    "<ul>\n",
    "    <li>\"C'est loin\" s'il habite a plus de 20 km.</li>\n",
    "    <li>\"C'est proche\" s'il habite a moins de 20 km.</li>\n",
    "</ul>"
   ]
  },
  {
   "cell_type": "code",
   "execution_count": null,
   "metadata": {},
   "outputs": [],
   "source": [
    "R = T.query('........................')\n",
    "\n",
    "for prenom, adresse, dist in R[['Prenom', 'Mail', 'Distance']].values: \n",
    "    yag = yagmail.SMTP(\"mon adresse\", \"mon mot de passe\")\n",
    "\n",
    "    message = \"Coucou \" + ......... + \"<br> Tu habites à \" + ...... + \"km du lycée.\"\n",
    "    \n",
    "    \n",
    "    \n",
    "\n",
    "    yag.send(to = adresse, \n",
    "             subject = \"Distance\", \n",
    "             contents = message)\n",
    "yag.close()"
   ]
  }
 ],
 "metadata": {
  "kernelspec": {
   "display_name": "Python 3",
   "language": "python",
   "name": "python3"
  },
  "language_info": {
   "codemirror_mode": {
    "name": "ipython",
    "version": 3
   },
   "file_extension": ".py",
   "mimetype": "text/x-python",
   "name": "python",
   "nbconvert_exporter": "python",
   "pygments_lexer": "ipython3",
   "version": "3.7.6"
  }
 },
 "nbformat": 4,
 "nbformat_minor": 2
}
